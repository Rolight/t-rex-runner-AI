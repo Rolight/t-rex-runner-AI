{
 "cells": [
  {
   "cell_type": "code",
   "execution_count": 1,
   "metadata": {},
   "outputs": [
    {
     "name": "stderr",
     "output_type": "stream",
     "text": [
      "/Users/loulinhui/anaconda3/lib/python3.6/site-packages/h5py/__init__.py:36: FutureWarning: Conversion of the second argument of issubdtype from `float` to `np.floating` is deprecated. In future, it will be treated as `np.float64 == np.dtype(float).type`.\n",
      "  from ._conv import register_converters as _register_converters\n"
     ]
    }
   ],
   "source": [
    "%load_ext autoreload\n",
    "%autoreload 2\n",
    "from train import TrainJob\n",
    "import tensorflow as tf"
   ]
  },
  {
   "cell_type": "code",
   "execution_count": 2,
   "metadata": {},
   "outputs": [],
   "source": [
    "job = TrainJob()"
   ]
  },
  {
   "cell_type": "code",
   "execution_count": 3,
   "metadata": {},
   "outputs": [
    {
     "data": {
      "text/plain": [
       "{'collect_data_size': 40, 'collect_threads': 4, 'sample_size': 30000}"
      ]
     },
     "execution_count": 3,
     "metadata": {},
     "output_type": "execute_result"
    }
   ],
   "source": [
    "job.params['collect_data_size'] = 40\n",
    "job.params['collect_threads'] = 4\n",
    "job.params"
   ]
  },
  {
   "cell_type": "code",
   "execution_count": 4,
   "metadata": {},
   "outputs": [],
   "source": [
    "init = tf.global_variables_initializer()\n",
    "job.sess.run(init)"
   ]
  },
  {
   "cell_type": "code",
   "execution_count": 8,
   "metadata": {},
   "outputs": [
    {
     "name": "stdout",
     "output_type": "stream",
     "text": [
      "on iter_step 0, loss = 0.0690933\n",
      "on iter_step 1, loss = 0.0695110\n",
      "on iter_step 2, loss = 0.0679752\n",
      "on iter_step 3, loss = 0.0683443\n",
      "on iter_step 4, loss = 0.0685547\n",
      "on iter_step 5, loss = 0.0677789\n",
      "on iter_step 6, loss = 0.0681594\n",
      "on iter_step 7, loss = 0.0684287\n",
      "on iter_step 8, loss = 0.0680908\n",
      "on iter_step 9, loss = 0.0687187\n",
      "on iter_step 10, loss = 0.0680800\n",
      "on iter_step 11, loss = 0.0684806\n",
      "on iter_step 12, loss = 0.0681443\n",
      "on iter_step 13, loss = 0.0675266\n",
      "on iter_step 14, loss = 0.0671517\n",
      "on iter_step 15, loss = 0.0679278\n",
      "on iter_step 16, loss = 0.0667897\n",
      "on iter_step 17, loss = 0.0662663\n",
      "on iter_step 18, loss = 0.0666878\n",
      "on iter_step 19, loss = 0.0671129\n",
      "on iter_step 20, loss = 0.0672063\n",
      "on iter_step 21, loss = 0.0662378\n",
      "on iter_step 22, loss = 0.0671268\n",
      "on iter_step 23, loss = 0.0665750\n",
      "on iter_step 24, loss = 0.0663326\n",
      "on iter_step 25, loss = 0.0676781\n",
      "on iter_step 26, loss = 0.0664202\n",
      "on iter_step 27, loss = 0.0663863\n",
      "on iter_step 28, loss = 0.0657611\n",
      "on iter_step 29, loss = 0.0660093\n",
      "on iter_step 30, loss = 0.0648271\n",
      "on iter_step 31, loss = 0.0656785\n",
      "on iter_step 32, loss = 0.0661806\n",
      "on iter_step 33, loss = 0.0660007\n",
      "on iter_step 34, loss = 0.0652859\n",
      "on iter_step 35, loss = 0.0656013\n",
      "on iter_step 36, loss = 0.0659137\n",
      "on iter_step 37, loss = 0.0647564\n",
      "on iter_step 38, loss = 0.0643330\n",
      "on iter_step 39, loss = 0.0646133\n",
      "Saving dyn_model to disk...\n",
      "Model has saved in ./2018-04-10-14-06-11/dyn_model/model.ckpt\n",
      "Model parameter has saved in ./2018-04-10-14-06-11/dyn_model/params.pkl\n",
      "all process finished, collecting data from output file...\n",
      "Saving databuffer to disk...\n",
      "DataBuffer has saved to ./2018-04-10-14-06-11/data_buffer.pkl\n"
     ]
    }
   ],
   "source": [
    "job.train_loop()"
   ]
  },
  {
   "cell_type": "code",
   "execution_count": 7,
   "metadata": {},
   "outputs": [
    {
     "name": "stdout",
     "output_type": "stream",
     "text": [
      "Savning training parameters to disk...\n",
      "Training parameters has saved to ./2018-04-10-14-06-11/parameters.pkl\n"
     ]
    }
   ],
   "source": [
    "job.dyn_model_params\n",
    "job.save()\n"
   ]
  },
  {
   "cell_type": "code",
   "execution_count": 10,
   "metadata": {},
   "outputs": [
    {
     "data": {
      "text/plain": [
       "8080"
      ]
     },
     "execution_count": 10,
     "metadata": {},
     "output_type": "execute_result"
    }
   ],
   "source": [
    "job.db._tail"
   ]
  },
  {
   "cell_type": "code",
   "execution_count": null,
   "metadata": {},
   "outputs": [],
   "source": []
  }
 ],
 "metadata": {
  "kernelspec": {
   "display_name": "Python 3",
   "language": "python",
   "name": "python3"
  },
  "language_info": {
   "codemirror_mode": {
    "name": "ipython",
    "version": 3
   },
   "file_extension": ".py",
   "mimetype": "text/x-python",
   "name": "python",
   "nbconvert_exporter": "python",
   "pygments_lexer": "ipython3",
   "version": "3.6.4"
  }
 },
 "nbformat": 4,
 "nbformat_minor": 2
}
