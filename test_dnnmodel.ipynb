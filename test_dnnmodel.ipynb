{
 "cells": [
  {
   "cell_type": "code",
   "execution_count": 1,
   "metadata": {},
   "outputs": [
    {
     "name": "stderr",
     "output_type": "stream",
     "text": [
      "/Users/loulinhui/anaconda3/lib/python3.6/site-packages/h5py/__init__.py:36: FutureWarning: Conversion of the second argument of issubdtype from `float` to `np.floating` is deprecated. In future, it will be treated as `np.float64 == np.dtype(float).type`.\n",
      "  from ._conv import register_converters as _register_converters\n"
     ]
    }
   ],
   "source": [
    "%load_ext autoreload\n",
    "%autoreload 2\n",
    "from train import NNDynamicModel, MPCcontroller\n",
    "import tensorflow as tf\n",
    "import numpy as np\n",
    "import json"
   ]
  },
  {
   "cell_type": "code",
   "execution_count": 2,
   "metadata": {},
   "outputs": [],
   "source": [
    "regularizer = tf.contrib.layers.l2_regularizer(scale=1e-5)\n",
    "activation = tf.nn.relu\n",
    "output_activation = None\n",
    "learning_rate = 0.003\n",
    "batch_size = 128"
   ]
  },
  {
   "cell_type": "code",
   "execution_count": 3,
   "metadata": {},
   "outputs": [
    {
     "name": "stdout",
     "output_type": "stream",
     "text": [
      "loaded 8000 data.\n"
     ]
    }
   ],
   "source": [
    "# load data\n",
    "with open('./sample.json', 'r') as f:\n",
    "    data = json.loads(f.read())\n",
    "    \n",
    "print('loaded %d data.' % (len(data)))\n"
   ]
  },
  {
   "cell_type": "code",
   "execution_count": 4,
   "metadata": {},
   "outputs": [
    {
     "name": "stdout",
     "output_type": "stream",
     "text": [
      "[array([  0.   , -50.   ,  90.   ,  17.   ,   6.166]), array([  0.   , 625.   , 105.   ,  51.   ,   6.657]), array([  0.        , 424.27775   ,  97.558125  ,  29.69      ,\n",
      "         6.21954263])]\n"
     ]
    }
   ],
   "source": [
    "obs = [d[0] for d in data]\n",
    "normalization = [np.min(obs, axis=0), np.max(obs, axis=0), np.mean(obs, axis=0)]\n",
    "print(normalization)\n",
    "\n",
    "session = tf.Session()"
   ]
  },
  {
   "cell_type": "code",
   "execution_count": 5,
   "metadata": {},
   "outputs": [],
   "source": [
    "model = NNDynamicModel(\n",
    "    name='test',\n",
    "    n_layers=3,\n",
    "    size=500,\n",
    "    activation=activation,\n",
    "    output_activation=output_activation,\n",
    "    kernel_regularizer=regularizer,\n",
    "    normalization=normalization,\n",
    "    batch_size=batch_size,\n",
    "    iterations=40,\n",
    "    learning_rate=learning_rate,\n",
    "    sess=session\n",
    ")"
   ]
  },
  {
   "cell_type": "code",
   "execution_count": 6,
   "metadata": {},
   "outputs": [],
   "source": [
    "init = tf.global_variables_initializer()\n",
    "session.run(init)"
   ]
  },
  {
   "cell_type": "code",
   "execution_count": 7,
   "metadata": {},
   "outputs": [
    {
     "name": "stdout",
     "output_type": "stream",
     "text": [
      "on iter_step 0, loss = 0.1105976\n",
      "on iter_step 1, loss = 0.0854701\n",
      "on iter_step 2, loss = 0.0821772\n",
      "on iter_step 3, loss = 0.0822450\n",
      "on iter_step 4, loss = 0.0805927\n",
      "on iter_step 5, loss = 0.0779966\n",
      "on iter_step 6, loss = 0.0777574\n",
      "on iter_step 7, loss = 0.0762136\n",
      "on iter_step 8, loss = 0.0751460\n",
      "on iter_step 9, loss = 0.0757106\n",
      "on iter_step 10, loss = 0.0751115\n",
      "on iter_step 11, loss = 0.0757109\n",
      "on iter_step 12, loss = 0.0741578\n",
      "on iter_step 13, loss = 0.0733339\n",
      "on iter_step 14, loss = 0.0733218\n",
      "on iter_step 15, loss = 0.0722440\n",
      "on iter_step 16, loss = 0.0725285\n",
      "on iter_step 17, loss = 0.0715083\n",
      "on iter_step 18, loss = 0.0729600\n",
      "on iter_step 19, loss = 0.0713228\n",
      "on iter_step 20, loss = 0.0709960\n",
      "on iter_step 21, loss = 0.0716361\n",
      "on iter_step 22, loss = 0.0717889\n",
      "on iter_step 23, loss = 0.0712208\n",
      "on iter_step 24, loss = 0.0707964\n",
      "on iter_step 25, loss = 0.0710603\n",
      "on iter_step 26, loss = 0.0709844\n",
      "on iter_step 27, loss = 0.0699346\n",
      "on iter_step 28, loss = 0.0700500\n",
      "on iter_step 29, loss = 0.0699152\n",
      "on iter_step 30, loss = 0.0694292\n",
      "on iter_step 31, loss = 0.0695853\n",
      "on iter_step 32, loss = 0.0692319\n",
      "on iter_step 33, loss = 0.0682348\n",
      "on iter_step 34, loss = 0.0684965\n",
      "on iter_step 35, loss = 0.0684581\n",
      "on iter_step 36, loss = 0.0685783\n",
      "on iter_step 37, loss = 0.0683437\n",
      "on iter_step 38, loss = 0.0686384\n",
      "on iter_step 39, loss = 0.0675767\n"
     ]
    }
   ],
   "source": [
    "model.fit(data)"
   ]
  },
  {
   "cell_type": "code",
   "execution_count": 10,
   "metadata": {},
   "outputs": [],
   "source": [
    "mpc = MPCcontroller(dyn_model=model) "
   ]
  },
  {
   "cell_type": "code",
   "execution_count": 18,
   "metadata": {},
   "outputs": [
    {
     "name": "stdout",
     "output_type": "stream",
     "text": [
      "(array([[-1.8611588e-03,  8.2346596e+01,  8.9301704e+01,  2.4753624e+01,\n",
      "         6.2678785e+00]], dtype=float32), array([-1.0655589], dtype=float32))\n",
      "[[0.0, 617.0, 105.0, 17.0, 6.477000000000159], [2.0, 0.33731651256761297], [0.0, 479.0, 105.0, 17.0, 6.525000000000175], 1]\n",
      "[0.         0.24290873] -0.6701787\n",
      "[0.         0.16634088] -0.2916547\n",
      "[0.        0.8814499] -1.0609406\n",
      "[0.        0.0295204] 0.31493282\n",
      "[0.        0.0549637] 0.40419942\n",
      "[0.         0.39289889] -0.9561287\n",
      "[0.         0.42682002] -0.9831791\n",
      "[0.         0.85944618] -1.0579916\n",
      "[0.         0.63408632] -1.0280226\n",
      "[0.         0.79720459] -1.0502659\n",
      "[0.         0.61501808] -1.0263752\n",
      "[0.         0.40944158] -0.96940124\n",
      "[0.         0.11447888] 0.21568504\n",
      "[0.         0.15532578] -0.19591348\n",
      "[0.         0.82511186] -1.0536741\n",
      "[0.         0.00076467] 0.23675767\n",
      "[0.         0.42785602] -0.9839648\n",
      "[0.         0.09884676] 0.36462563\n",
      "[0.         0.45768539] -0.9996028\n",
      "[0.         0.25365702] -0.70123196\n",
      "[1.         0.81047787] 0.79181087\n",
      "[1.         0.91515906] 0.46171945\n",
      "[1.         0.79253453] 0.8451465\n",
      "[1.         0.22227408] 0.76319903\n",
      "[1.         0.78518636] 0.8668646\n",
      "[1.         0.41021429] 0.973125\n",
      "[1.         0.05295732] -0.4455111\n",
      "[1.         0.69952037] 0.9999408\n",
      "[1.         0.24562239] 0.83068526\n",
      "[1.         0.69385401] 1.0012953\n",
      "[1.         0.93427362] 0.40188742\n",
      "[1.         0.57185104] 1.0081495\n",
      "[1.         0.51385774] 0.998989\n",
      "[1.         0.74447222] 0.9684811\n",
      "[1.         0.24670909] 0.8330227\n",
      "[1.         0.73438335] 0.9835342\n",
      "[1.         0.58921341] 1.0088704\n",
      "[1.         0.19898775] 0.61522424\n",
      "[1.         0.94288692] 0.3752395\n",
      "[1.         0.46468096] 0.98411244\n",
      "[2.         0.68041405] -1.127269\n",
      "[2.         0.59208346] -1.112564\n",
      "[2.         0.41045668] -1.0679411\n",
      "[2.         0.83409528] -1.1707414\n",
      "[2.         0.12975128] -0.6128143\n",
      "[2.         0.19650486] -0.86981094\n",
      "[2.         0.02156183] 0.6353564\n",
      "[2.         0.69658705] -1.1322496\n",
      "[2.         0.22362579] -0.93313444\n",
      "[2.         0.38441505] -1.0555034\n",
      "[2.         0.74148041] -1.1465186\n",
      "[2.         0.40224567] -1.064277\n",
      "[2.         0.29742022] -1.008833\n",
      "[2.         0.51106628] -1.0953106\n",
      "[2.         0.86767076] -1.1805516\n",
      "[2.       0.196117] -0.868482\n",
      "[2.         0.67256812] -1.125795\n",
      "[2.         0.25496103] -0.9678972\n",
      "[2.         0.99301005] -1.2219552\n",
      "[2.         0.89028966] -1.1881865\n",
      "[0.         0.00076467]\n"
     ]
    }
   ],
   "source": [
    "nd = [d for d in data if d[-1] < 0]\n",
    "obs, action, nobs, reward = nd[2]\n",
    "print(model.predict([obs], [action]))\n",
    "print(data[0])\n",
    "action = mpc.get_action(obs)\n",
    "print(action)"
   ]
  },
  {
   "cell_type": "code",
   "execution_count": null,
   "metadata": {},
   "outputs": [],
   "source": []
  }
 ],
 "metadata": {
  "kernelspec": {
   "display_name": "Python 3",
   "language": "python",
   "name": "python3"
  },
  "language_info": {
   "codemirror_mode": {
    "name": "ipython",
    "version": 3
   },
   "file_extension": ".py",
   "mimetype": "text/x-python",
   "name": "python",
   "nbconvert_exporter": "python",
   "pygments_lexer": "ipython3",
   "version": "3.6.4"
  }
 },
 "nbformat": 4,
 "nbformat_minor": 2
}
