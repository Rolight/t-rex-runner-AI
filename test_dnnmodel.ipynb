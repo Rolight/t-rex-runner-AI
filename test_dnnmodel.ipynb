{
 "cells": [
  {
   "cell_type": "code",
   "execution_count": 1,
   "metadata": {},
   "outputs": [
    {
     "name": "stderr",
     "output_type": "stream",
     "text": [
      "/Users/loulinhui/anaconda3/lib/python3.6/site-packages/h5py/__init__.py:36: FutureWarning: Conversion of the second argument of issubdtype from `float` to `np.floating` is deprecated. In future, it will be treated as `np.float64 == np.dtype(float).type`.\n",
      "  from ._conv import register_converters as _register_converters\n"
     ]
    }
   ],
   "source": [
    "%load_ext autoreload\n",
    "%autoreload 2\n",
    "from models import NNDynamicModel, MPCcontroller\n",
    "import tensorflow as tf\n",
    "import numpy as np\n",
    "import json"
   ]
  },
  {
   "cell_type": "code",
   "execution_count": 2,
   "metadata": {},
   "outputs": [],
   "source": [
    "regularizer = tf.contrib.layers.l2_regularizer(scale=1e-5)\n",
    "activation = tf.nn.relu\n",
    "output_activation = None\n",
    "learning_rate = 0.003\n",
    "batch_size = 128"
   ]
  },
  {
   "cell_type": "code",
   "execution_count": 3,
   "metadata": {},
   "outputs": [
    {
     "name": "stdout",
     "output_type": "stream",
     "text": [
      "loaded 8000 data.\n"
     ]
    }
   ],
   "source": [
    "# load data\n",
    "with open('./sample.json', 'r') as f:\n",
    "    data = json.loads(f.read())\n",
    "    \n",
    "print('loaded %d data.' % (len(data)))\n"
   ]
  },
  {
   "cell_type": "code",
   "execution_count": 4,
   "metadata": {},
   "outputs": [
    {
     "name": "stdout",
     "output_type": "stream",
     "text": [
      "[array([  0.   , -50.   ,  90.   ,  17.   ,   6.166]), array([  0.   , 625.   , 105.   ,  51.   ,   6.657]), array([  0.        , 424.27775   ,  97.558125  ,  29.69      ,\n",
      "         6.21954263])]\n"
     ]
    }
   ],
   "source": [
    "obs = [d[0] for d in data]\n",
    "normalization = [np.min(obs, axis=0), np.max(obs, axis=0), np.mean(obs, axis=0)]\n",
    "print(normalization)\n",
    "\n",
    "session = tf.Session()"
   ]
  },
  {
   "cell_type": "code",
   "execution_count": 5,
   "metadata": {},
   "outputs": [],
   "source": [
    "model = NNDynamicModel(\n",
    "    name='test',\n",
    "    n_layers=3,\n",
    "    size=128,\n",
    "    activation=activation,\n",
    "    output_activation=output_activation,\n",
    "    kernel_regularizer=regularizer,\n",
    "    normalization=normalization,\n",
    "    batch_size=batch_size,\n",
    "    iterations=40,\n",
    "    learning_rate=learning_rate,\n",
    "    sess=session\n",
    ")"
   ]
  },
  {
   "cell_type": "code",
   "execution_count": 6,
   "metadata": {},
   "outputs": [],
   "source": [
    "init = tf.global_variables_initializer()\n",
    "session.run(init)"
   ]
  },
  {
   "cell_type": "code",
   "execution_count": 7,
   "metadata": {},
   "outputs": [
    {
     "name": "stdout",
     "output_type": "stream",
     "text": [
      "on iter_step 0, loss = 0.1193627\n",
      "on iter_step 1, loss = 0.0912459\n",
      "on iter_step 2, loss = 0.0873503\n",
      "on iter_step 3, loss = 0.0813736\n",
      "on iter_step 4, loss = 0.0820244\n",
      "on iter_step 5, loss = 0.0788480\n",
      "on iter_step 6, loss = 0.0774312\n",
      "on iter_step 7, loss = 0.0775689\n",
      "on iter_step 8, loss = 0.0757611\n",
      "on iter_step 9, loss = 0.0760173\n",
      "on iter_step 10, loss = 0.0744271\n",
      "on iter_step 11, loss = 0.0743639\n",
      "on iter_step 12, loss = 0.0747819\n",
      "on iter_step 13, loss = 0.0737394\n",
      "on iter_step 14, loss = 0.0737247\n",
      "on iter_step 15, loss = 0.0739567\n",
      "on iter_step 16, loss = 0.0739094\n",
      "on iter_step 17, loss = 0.0733404\n",
      "on iter_step 18, loss = 0.0731530\n",
      "on iter_step 19, loss = 0.0726518\n",
      "on iter_step 20, loss = 0.0722122\n",
      "on iter_step 21, loss = 0.0721085\n",
      "on iter_step 22, loss = 0.0723511\n",
      "on iter_step 23, loss = 0.0721214\n",
      "on iter_step 24, loss = 0.0718269\n",
      "on iter_step 25, loss = 0.0719076\n",
      "on iter_step 26, loss = 0.0715924\n",
      "on iter_step 27, loss = 0.0707279\n",
      "on iter_step 28, loss = 0.0710203\n",
      "on iter_step 29, loss = 0.0718373\n",
      "on iter_step 30, loss = 0.0708144\n",
      "on iter_step 31, loss = 0.0712581\n",
      "on iter_step 32, loss = 0.0704286\n",
      "on iter_step 33, loss = 0.0714949\n",
      "on iter_step 34, loss = 0.0704351\n",
      "on iter_step 35, loss = 0.0696968\n",
      "on iter_step 36, loss = 0.0699405\n",
      "on iter_step 37, loss = 0.0695943\n",
      "on iter_step 38, loss = 0.0691144\n",
      "on iter_step 39, loss = 0.0697157\n"
     ]
    }
   ],
   "source": [
    "model.fit(data)"
   ]
  },
  {
   "cell_type": "code",
   "execution_count": 8,
   "metadata": {},
   "outputs": [],
   "source": [
    "mpc = MPCcontroller(dyn_model=model) "
   ]
  },
  {
   "cell_type": "code",
   "execution_count": 13,
   "metadata": {},
   "outputs": [
    {
     "name": "stdout",
     "output_type": "stream",
     "text": [
      "(array([[-1.7906092e-03,  3.5971649e+02,  1.0513793e+02,  5.1814770e+01,\n",
      "         6.2279243e+00]], dtype=float32), array([0.64560527], dtype=float32))\n",
      "[0.0, 458.0, 105.0, 51.0, 6.204000000000068] [0.0, 0.32596028023061896] [0.0, 333.0, 105.0, 51.0, 6.2260000000000755] -1\n",
      "[0.         0.93700732]\n"
     ]
    }
   ],
   "source": [
    "nd = [d for d in data if d[-1] < 0]\n",
    "obs, action, nobs, reward = nd[3]\n",
    "print(model.predict([obs], [action]))\n",
    "print(obs, action, nobs, reward)\n",
    "action = mpc.get_action(obs)\n",
    "print(action)"
   ]
  },
  {
   "cell_type": "code",
   "execution_count": 10,
   "metadata": {},
   "outputs": [],
   "source": [
    "from game_controller import GameEnv"
   ]
  },
  {
   "cell_type": "code",
   "execution_count": 11,
   "metadata": {},
   "outputs": [
    {
     "ename": "TypeError",
     "evalue": "object of type 'NoneType' has no len()",
     "output_type": "error",
     "traceback": [
      "\u001b[0;31m---------------------------------------------------------------------------\u001b[0m",
      "\u001b[0;31mTypeError\u001b[0m                                 Traceback (most recent call last)",
      "\u001b[0;32m<ipython-input-11-a8355b8fcfd6>\u001b[0m in \u001b[0;36m<module>\u001b[0;34m()\u001b[0m\n\u001b[1;32m      8\u001b[0m         \u001b[0menv\u001b[0m\u001b[0;34m.\u001b[0m\u001b[0mrestart\u001b[0m\u001b[0;34m(\u001b[0m\u001b[0;34m)\u001b[0m\u001b[0;34m\u001b[0m\u001b[0m\n\u001b[1;32m      9\u001b[0m     \u001b[0;32mif\u001b[0m \u001b[0mobs\u001b[0m \u001b[0;32mis\u001b[0m \u001b[0;32mNone\u001b[0m\u001b[0;34m:\u001b[0m\u001b[0;34m\u001b[0m\u001b[0m\n\u001b[0;32m---> 10\u001b[0;31m         \u001b[0mobs\u001b[0m \u001b[0;34m=\u001b[0m \u001b[0menv\u001b[0m\u001b[0;34m.\u001b[0m\u001b[0mget_observation\u001b[0m\u001b[0;34m(\u001b[0m\u001b[0;34m)\u001b[0m\u001b[0;34m\u001b[0m\u001b[0m\n\u001b[0m\u001b[1;32m     11\u001b[0m     \u001b[0;32mif\u001b[0m \u001b[0mobs\u001b[0m \u001b[0;32mis\u001b[0m \u001b[0;32mnot\u001b[0m \u001b[0;32mNone\u001b[0m\u001b[0;34m:\u001b[0m\u001b[0;34m\u001b[0m\u001b[0m\n\u001b[1;32m     12\u001b[0m         \u001b[0maction\u001b[0m \u001b[0;34m=\u001b[0m \u001b[0mmpc\u001b[0m\u001b[0;34m.\u001b[0m\u001b[0mget_action\u001b[0m\u001b[0;34m(\u001b[0m\u001b[0mobs\u001b[0m\u001b[0;34m)\u001b[0m\u001b[0;34m\u001b[0m\u001b[0m\n",
      "\u001b[0;32m/opt/t-rex-runner-Q-learning/game_controller.py\u001b[0m in \u001b[0;36mget_observation\u001b[0;34m(self)\u001b[0m\n\u001b[1;32m    155\u001b[0m     \u001b[0;32mdef\u001b[0m \u001b[0mget_observation\u001b[0m\u001b[0;34m(\u001b[0m\u001b[0mself\u001b[0m\u001b[0;34m)\u001b[0m\u001b[0;34m:\u001b[0m\u001b[0;34m\u001b[0m\u001b[0m\n\u001b[1;32m    156\u001b[0m         \u001b[0mobstacles\u001b[0m \u001b[0;34m=\u001b[0m \u001b[0mself\u001b[0m\u001b[0;34m.\u001b[0m\u001b[0m_get_runner_state\u001b[0m\u001b[0;34m(\u001b[0m\u001b[0;34m'horizon.obstacles'\u001b[0m\u001b[0;34m)\u001b[0m\u001b[0;34m\u001b[0m\u001b[0m\n\u001b[0;32m--> 157\u001b[0;31m         \u001b[0;32mif\u001b[0m \u001b[0mlen\u001b[0m\u001b[0;34m(\u001b[0m\u001b[0mobstacles\u001b[0m\u001b[0;34m)\u001b[0m \u001b[0;34m==\u001b[0m \u001b[0;36m0\u001b[0m\u001b[0;34m:\u001b[0m\u001b[0;34m\u001b[0m\u001b[0m\n\u001b[0m\u001b[1;32m    158\u001b[0m             \u001b[0;32mreturn\u001b[0m \u001b[0;32mNone\u001b[0m\u001b[0;34m\u001b[0m\u001b[0m\n\u001b[1;32m    159\u001b[0m         \u001b[0mnearest_obstacle\u001b[0m \u001b[0;34m=\u001b[0m \u001b[0mobstacles\u001b[0m\u001b[0;34m[\u001b[0m\u001b[0;36m0\u001b[0m\u001b[0;34m]\u001b[0m\u001b[0;34m\u001b[0m\u001b[0m\n",
      "\u001b[0;31mTypeError\u001b[0m: object of type 'NoneType' has no len()"
     ]
    }
   ],
   "source": [
    "env = GameEnv()\n",
    "env.start()\n",
    "\n",
    "obs = None\n",
    "step = 1000\n",
    "while step > 0:\n",
    "    if env.status == 'CRASHED':\n",
    "        env.restart()\n",
    "    if obs is None:\n",
    "        obs = env.get_observation()\n",
    "    if obs is not None:\n",
    "        action = mpc.get_action(obs)\n",
    "        obs, _, _ = env.perform_action(action)\n",
    "        step -= 1"
   ]
  },
  {
   "cell_type": "code",
   "execution_count": null,
   "metadata": {},
   "outputs": [],
   "source": []
  }
 ],
 "metadata": {
  "kernelspec": {
   "display_name": "Python 3",
   "language": "python",
   "name": "python3"
  },
  "language_info": {
   "codemirror_mode": {
    "name": "ipython",
    "version": 3
   },
   "file_extension": ".py",
   "mimetype": "text/x-python",
   "name": "python",
   "nbconvert_exporter": "python",
   "pygments_lexer": "ipython3",
   "version": "3.6.4"
  }
 },
 "nbformat": 4,
 "nbformat_minor": 2
}
