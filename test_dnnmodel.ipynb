{
 "cells": [
  {
   "cell_type": "code",
   "execution_count": 1,
   "metadata": {},
   "outputs": [
    {
     "name": "stderr",
     "output_type": "stream",
     "text": [
      "/home/rolight/anaconda3/envs/tf/lib/python3.6/site-packages/h5py/__init__.py:36: FutureWarning: Conversion of the second argument of issubdtype from `float` to `np.floating` is deprecated. In future, it will be treated as `np.float64 == np.dtype(float).type`.\n",
      "  from ._conv import register_converters as _register_converters\n"
     ]
    }
   ],
   "source": [
    "%load_ext autoreload\n",
    "%autoreload 2\n",
    "from models import NNDynamicModel, MPCcontroller\n",
    "import tensorflow as tf\n",
    "import numpy as np\n",
    "import json\n",
    "import pickle"
   ]
  },
  {
   "cell_type": "code",
   "execution_count": 2,
   "metadata": {},
   "outputs": [],
   "source": [
    "DYNAMIC_MODEL_PARAMS = {\n",
    "    'l2_regularizer_scale': 1e-5,\n",
    "    'activation': 'tanh',\n",
    "    'output_activation': None,\n",
    "    'learning_rate': [0.001, 0.001, 0.001],\n",
    "    'batch_size': 128,\n",
    "    'n_layers': 3,\n",
    "    'size': 128,\n",
    "    'iterations': 100,\n",
    "}"
   ]
  },
  {
   "cell_type": "code",
   "execution_count": 3,
   "metadata": {},
   "outputs": [],
   "source": [
    "# load data\n",
    "with open('./sample.json', 'r') as f:\n",
    "    data = json.load(f)\n",
    "\n",
    "test_data = data[-2000:]\n",
    "data = data[:-2000]"
   ]
  },
  {
   "cell_type": "code",
   "execution_count": 4,
   "metadata": {},
   "outputs": [
    {
     "name": "stdout",
     "output_type": "stream",
     "text": [
      "[list([0.0, -50.0, 105.0, 51.0, 6.2920000000000975])\n",
      " list([2.0, 0.37846549794879236])\n",
      " list([0.0, 439.0, 105.0, 51.0, 6.320000000000107]) 1]\n"
     ]
    }
   ],
   "source": [
    "# [obs, action, nobs, r]\n",
    "obs = [d for d in data if d[0][1] < 0]\n",
    "obs = np.array(obs)\n",
    "print(obs[2])"
   ]
  },
  {
   "cell_type": "code",
   "execution_count": 5,
   "metadata": {},
   "outputs": [
    {
     "name": "stdout",
     "output_type": "stream",
     "text": [
      "[array([  0.   , -50.   ,  90.   ,  17.   ,   6.168]), array([  0.   , 625.   , 105.   ,  51.   ,   6.657]), array([  0.        , 424.433     ,  97.6475    ,  29.597     ,\n",
      "         6.21942167])]\n"
     ]
    }
   ],
   "source": [
    "obs = [d[0] for d in data]\n",
    "normalization = [np.min(obs, axis=0), np.max(obs, axis=0), np.mean(obs, axis=0)]\n",
    "print(normalization)\n",
    "\n",
    "session = tf.Session()"
   ]
  },
  {
   "cell_type": "code",
   "execution_count": 6,
   "metadata": {},
   "outputs": [],
   "source": [
    "model = NNDynamicModel(\n",
    "    name='test',\n",
    "    sess=session,\n",
    "    normalization=normalization,\n",
    "    **DYNAMIC_MODEL_PARAMS\n",
    ")"
   ]
  },
  {
   "cell_type": "code",
   "execution_count": null,
   "metadata": {},
   "outputs": [],
   "source": []
  },
  {
   "cell_type": "code",
   "execution_count": 7,
   "metadata": {},
   "outputs": [],
   "source": [
    "init = tf.global_variables_initializer()\n",
    "session.run(init)"
   ]
  },
  {
   "cell_type": "code",
   "execution_count": 8,
   "metadata": {},
   "outputs": [
    {
     "name": "stdout",
     "output_type": "stream",
     "text": [
      "on iter_step 0, loss = [0.4479493  0.54096717 0.4239607 ]\n",
      "on iter_step 10, loss = [0.37100336 0.5289081  0.31792584]\n",
      "on iter_step 20, loss = [0.34034365 0.52791566 0.2917938 ]\n",
      "on iter_step 30, loss = [0.30821112 0.5215189  0.27817002]\n",
      "on iter_step 40, loss = [0.30320576 0.5268646  0.2736329 ]\n",
      "on iter_step 50, loss = [0.30070356 0.52706665 0.26914805]\n",
      "on iter_step 60, loss = [0.28914273 0.5223497  0.2621015 ]\n",
      "on iter_step 70, loss = [0.2817178  0.51736903 0.2617269 ]\n",
      "on iter_step 80, loss = [0.2860543  0.5117415  0.25506967]\n",
      "on iter_step 90, loss = [0.27748728 0.51080805 0.25007936]\n"
     ]
    }
   ],
   "source": [
    "model.fit(data)"
   ]
  },
  {
   "cell_type": "code",
   "execution_count": 9,
   "metadata": {},
   "outputs": [],
   "source": [
    "mpc = MPCcontroller(dyn_model=model) "
   ]
  },
  {
   "cell_type": "code",
   "execution_count": 10,
   "metadata": {},
   "outputs": [
    {
     "name": "stdout",
     "output_type": "stream",
     "text": [
      "test_acc:  0.864 \n",
      "train_acc:  0.8566666666666667\n"
     ]
    }
   ],
   "source": [
    "test_obs, test_action = [d[0] for d in test_data], [d[1] for d in test_data]\n",
    "test_pred = model.predict(test_obs, test_action)\n",
    "train_pred = model.predict([d[0] for d in data], [d[1] for d in data])\n",
    "test_reward = [d[-1] for d in test_data]\n",
    "train_reward = [d[-1] for d in data]\n",
    "gd = 0\n",
    "test_pred = np.array([-1 if d[0] >= d[1] + gd else 1 for d in test_pred])\n",
    "train_pred = np.array([-1 if d[0] >= d[1] + gd  else 1 for d in train_pred])\n",
    "test_acc = np.sum(test_pred == test_reward) / len(test_reward)\n",
    "train_acc = np.sum(train_pred == train_reward) / len(train_reward)\n",
    "print('test_acc: ', test_acc, '\\ntrain_acc: ', train_acc)"
   ]
  },
  {
   "cell_type": "code",
   "execution_count": 11,
   "metadata": {},
   "outputs": [
    {
     "name": "stdout",
     "output_type": "stream",
     "text": [
      "272\n"
     ]
    }
   ],
   "source": [
    "err_data = [test_data[i] for i in range(len(test_data)) if test_pred[i] != test_reward[i]]\n",
    "print(len(err_data))"
   ]
  },
  {
   "cell_type": "code",
   "execution_count": 12,
   "metadata": {},
   "outputs": [
    {
     "name": "stdout",
     "output_type": "stream",
     "text": [
      "[[0.0, 463.0, 90.0, 25.0, 6.533000000000178], [1.0, 0.8963443224702344], [0.0, 71.0, 90.0, 25.0, 6.65900000000022], -1]\n",
      "[[0.23102708 0.76897292]]\n"
     ]
    }
   ],
   "source": [
    "ed = err_data[0]\n",
    "err_action = np.array([d[1] for d in err_data])\n",
    "print(ed)\n",
    "print(model.predict([ed[0]], [ed[1]]))"
   ]
  },
  {
   "cell_type": "code",
   "execution_count": 13,
   "metadata": {},
   "outputs": [
    {
     "name": "stdout",
     "output_type": "stream",
     "text": [
      "[2.         0.92919007]\n",
      "[[0.97122065 0.02877935]]\n"
     ]
    }
   ],
   "source": [
    "action = mpc.get_action(ed[0])\n",
    "print(action)\n",
    "print(model.predict([ed[0]], [action]))"
   ]
  },
  {
   "cell_type": "code",
   "execution_count": 14,
   "metadata": {},
   "outputs": [],
   "source": [
    "from game_controller import GameEnv\n",
    "import time"
   ]
  },
  {
   "cell_type": "code",
   "execution_count": 15,
   "metadata": {},
   "outputs": [
    {
     "name": "stdout",
     "output_type": "stream",
     "text": [
      "[1.         0.26947554]\n",
      "[1.         0.24914105]\n",
      "[1.         0.27154803]\n",
      "[1.         0.21984896]\n",
      "[1.         0.25748501]\n",
      "[1.         0.25708158]\n",
      "[1.         0.25277342]\n",
      "[1.         0.26917848]\n",
      "[1.         0.24369939]\n",
      "[1.         0.27588385]\n",
      "[1.        0.2365862]\n",
      "[1.         0.30997926]\n",
      "[1.        0.3206901]\n",
      "[1.         0.27091303]\n",
      "[2.         0.67103372]\n",
      "[2.         0.70485548]\n",
      "[1.         0.58769428]\n",
      "[1.         0.60637972]\n",
      "[1.         0.59905223]\n",
      "[1.         0.59119009]\n",
      "[1.         0.62228676]\n",
      "[1.         0.60113987]\n",
      "[1.         0.54763343]\n",
      "[1.         0.60101109]\n",
      "[1.         0.58954427]\n",
      "[1.         0.60859799]\n",
      "[1.         0.60604238]\n",
      "[1.        0.6543313]\n",
      "[1.         0.60885497]\n",
      "[1.         0.61039764]\n",
      "[1.         0.61914529]\n",
      "[1.         0.59759672]\n",
      "[1.         0.57030778]\n",
      "[1.         0.57203205]\n",
      "[1.         0.59435181]\n"
     ]
    },
    {
     "ename": "KeyboardInterrupt",
     "evalue": "",
     "output_type": "error",
     "traceback": [
      "\u001b[0;31m---------------------------------------------------------------------------\u001b[0m",
      "\u001b[0;31mKeyboardInterrupt\u001b[0m                         Traceback (most recent call last)",
      "\u001b[0;32m<ipython-input-15-959d038b9361>\u001b[0m in \u001b[0;36m<module>\u001b[0;34m()\u001b[0m\n\u001b[1;32m     11\u001b[0m     \u001b[0maction\u001b[0m \u001b[0;34m=\u001b[0m \u001b[0mmpc\u001b[0m\u001b[0;34m.\u001b[0m\u001b[0mget_action\u001b[0m\u001b[0;34m(\u001b[0m\u001b[0mobs\u001b[0m\u001b[0;34m)\u001b[0m\u001b[0;34m\u001b[0m\u001b[0m\n\u001b[1;32m     12\u001b[0m     \u001b[0mprint\u001b[0m\u001b[0;34m(\u001b[0m\u001b[0maction\u001b[0m\u001b[0;34m)\u001b[0m\u001b[0;34m\u001b[0m\u001b[0m\n\u001b[0;32m---> 13\u001b[0;31m     \u001b[0menv\u001b[0m\u001b[0;34m.\u001b[0m\u001b[0mperform_action\u001b[0m\u001b[0;34m(\u001b[0m\u001b[0maction\u001b[0m\u001b[0;34m)\u001b[0m\u001b[0;34m\u001b[0m\u001b[0m\n\u001b[0m",
      "\u001b[0;32m/opt/t-rex-runner-AI/game_controller.py\u001b[0m in \u001b[0;36mperform_action\u001b[0;34m(self, action, verbose)\u001b[0m\n\u001b[1;32m    188\u001b[0m             \u001b[0;31m# jump\u001b[0m\u001b[0;34m\u001b[0m\u001b[0;34m\u001b[0m\u001b[0m\n\u001b[1;32m    189\u001b[0m             \u001b[0mself\u001b[0m\u001b[0;34m.\u001b[0m\u001b[0m_send_key_to_game\u001b[0m\u001b[0;34m(\u001b[0m\u001b[0mself\u001b[0m\u001b[0;34m.\u001b[0m\u001b[0mkeys\u001b[0m\u001b[0;34m.\u001b[0m\u001b[0mUP\u001b[0m\u001b[0;34m)\u001b[0m\u001b[0;34m\u001b[0m\u001b[0m\n\u001b[0;32m--> 190\u001b[0;31m             \u001b[0mtime\u001b[0m\u001b[0;34m.\u001b[0m\u001b[0msleep\u001b[0m\u001b[0;34m(\u001b[0m\u001b[0mhold_time\u001b[0m\u001b[0;34m)\u001b[0m\u001b[0;34m\u001b[0m\u001b[0m\n\u001b[0m\u001b[1;32m    191\u001b[0m             \u001b[0mself\u001b[0m\u001b[0;34m.\u001b[0m\u001b[0m_send_key_to_game\u001b[0m\u001b[0;34m(\u001b[0m\u001b[0;34m'DOWN'\u001b[0m\u001b[0;34m,\u001b[0m \u001b[0mholding\u001b[0m\u001b[0;34m=\u001b[0m\u001b[0;32mTrue\u001b[0m\u001b[0;34m,\u001b[0m \u001b[0mholding_duration\u001b[0m\u001b[0;34m=\u001b[0m\u001b[0;32mNone\u001b[0m\u001b[0;34m)\u001b[0m\u001b[0;34m\u001b[0m\u001b[0m\n\u001b[1;32m    192\u001b[0m         \u001b[0;32melif\u001b[0m \u001b[0maction_id\u001b[0m \u001b[0;34m==\u001b[0m \u001b[0;36m2\u001b[0m\u001b[0;34m:\u001b[0m\u001b[0;34m\u001b[0m\u001b[0m\n",
      "\u001b[0;31mKeyboardInterrupt\u001b[0m: "
     ]
    }
   ],
   "source": [
    "env = GameEnv()\n",
    "env.start()\n",
    "obs = None\n",
    "while True:\n",
    "    if env.status == 'CRASHED':\n",
    "        env.restart()\n",
    "        obs = None\n",
    "    while obs is None:\n",
    "        time.sleep(env.interval_time)\n",
    "        obs = env.get_observation()\n",
    "    action = mpc.get_action(obs)\n",
    "    print(action)\n",
    "    env.perform_action(action)"
   ]
  },
  {
   "cell_type": "code",
   "execution_count": null,
   "metadata": {},
   "outputs": [],
   "source": []
  }
 ],
 "metadata": {
  "kernelspec": {
   "display_name": "Python 3",
   "language": "python",
   "name": "python3"
  },
  "language_info": {
   "codemirror_mode": {
    "name": "ipython",
    "version": 3
   },
   "file_extension": ".py",
   "mimetype": "text/x-python",
   "name": "python",
   "nbconvert_exporter": "python",
   "pygments_lexer": "ipython3",
   "version": "3.6.4"
  }
 },
 "nbformat": 4,
 "nbformat_minor": 2
}
