{
 "cells": [
  {
   "cell_type": "code",
   "execution_count": 1,
   "metadata": {},
   "outputs": [
    {
     "name": "stderr",
     "output_type": "stream",
     "text": [
      "/Users/loulinhui/anaconda3/lib/python3.6/site-packages/h5py/__init__.py:36: FutureWarning: Conversion of the second argument of issubdtype from `float` to `np.floating` is deprecated. In future, it will be treated as `np.float64 == np.dtype(float).type`.\n",
      "  from ._conv import register_converters as _register_converters\n"
     ]
    }
   ],
   "source": [
    "%load_ext autoreload\n",
    "%autoreload 2\n",
    "from models import NNDynamicModel, MPCcontroller\n",
    "import tensorflow as tf\n",
    "import numpy as np\n",
    "import json\n",
    "import pickle"
   ]
  },
  {
   "cell_type": "code",
   "execution_count": 2,
   "metadata": {},
   "outputs": [],
   "source": [
    "DYNAMIC_MODEL_PARAMS = {\n",
    "    'l2_regularizer_scale': 1e-5,\n",
    "    'activation': 'tanh',\n",
    "    'output_activation': None,\n",
    "    'learning_rate': 0.005,\n",
    "    'batch_size': 128,\n",
    "    'n_layers': 5,\n",
    "    'size': 128,\n",
    "    'iterations': 40,\n",
    "}"
   ]
  },
  {
   "cell_type": "code",
   "execution_count": 3,
   "metadata": {},
   "outputs": [],
   "source": [
    "# load data\n",
    "with open('./gao/data_buffer.pkl', 'rb') as f:\n",
    "    data = pickle.load(f)\n",
    "\n",
    "data = data.sample(data._tail)"
   ]
  },
  {
   "cell_type": "code",
   "execution_count": 4,
   "metadata": {},
   "outputs": [
    {
     "name": "stdout",
     "output_type": "stream",
     "text": [
      "[list([0.0, -50.0, 105.0, 51.0, 6.2920000000000975])\n",
      " list([2.0, 0.37846549794879236])\n",
      " list([0.0, 439.0, 105.0, 51.0, 6.320000000000107]) 1]\n"
     ]
    }
   ],
   "source": [
    "# [obs, action, nobs, r]\n",
    "obs = [d for d in data if d[0][1] < 0]\n",
    "obs = np.array(obs)\n",
    "print(obs[2])"
   ]
  },
  {
   "cell_type": "code",
   "execution_count": 5,
   "metadata": {},
   "outputs": [
    {
     "name": "stdout",
     "output_type": "stream",
     "text": [
      "[array([  0.   , -50.   ,  90.   ,  17.   ,   6.153]), array([  0.   , 625.   , 105.   ,  51.   ,   6.743]), array([  0.        , 450.741625  ,  96.84375   ,  29.41579167,\n",
      "         6.22045446])]\n"
     ]
    }
   ],
   "source": [
    "obs = [d[0] for d in data]\n",
    "normalization = [np.min(obs, axis=0), np.max(obs, axis=0), np.mean(obs, axis=0)]\n",
    "print(normalization)\n",
    "\n",
    "session = tf.Session()"
   ]
  },
  {
   "cell_type": "code",
   "execution_count": 6,
   "metadata": {},
   "outputs": [],
   "source": [
    "model = NNDynamicModel(\n",
    "    name='test',\n",
    "    sess=session,\n",
    "    normalization=normalization,\n",
    "    **DYNAMIC_MODEL_PARAMS\n",
    ")"
   ]
  },
  {
   "cell_type": "code",
   "execution_count": null,
   "metadata": {},
   "outputs": [],
   "source": []
  },
  {
   "cell_type": "code",
   "execution_count": 7,
   "metadata": {},
   "outputs": [],
   "source": [
    "init = tf.global_variables_initializer()\n",
    "session.run(init)"
   ]
  },
  {
   "cell_type": "code",
   "execution_count": 8,
   "metadata": {},
   "outputs": [
    {
     "name": "stdout",
     "output_type": "stream",
     "text": [
      "on iter_step 0, loss = 0.6132059, max_loss = 0.8509675, min_loss = 0.4855779\n",
      "on iter_step 1, loss = 0.5569801, max_loss = 0.6771551, min_loss = 0.4506190\n",
      "on iter_step 2, loss = 0.5422396, max_loss = 0.7704645, min_loss = 0.4062078\n",
      "on iter_step 3, loss = 0.5321300, max_loss = 0.7087847, min_loss = 0.4229354\n",
      "on iter_step 4, loss = 0.5321613, max_loss = 0.6532180, min_loss = 0.4211412\n",
      "on iter_step 5, loss = 0.5197561, max_loss = 0.6300232, min_loss = 0.4096825\n",
      "on iter_step 6, loss = 0.5166356, max_loss = 0.6428299, min_loss = 0.3724757\n",
      "on iter_step 7, loss = 0.5156615, max_loss = 0.6747386, min_loss = 0.3939956\n",
      "on iter_step 8, loss = 0.5188743, max_loss = 0.6391256, min_loss = 0.3718780\n",
      "on iter_step 9, loss = 0.5133657, max_loss = 0.6635657, min_loss = 0.3770050\n",
      "on iter_step 10, loss = 0.5198277, max_loss = 0.6506032, min_loss = 0.4060705\n",
      "on iter_step 11, loss = 0.5125126, max_loss = 0.6602467, min_loss = 0.4025634\n",
      "on iter_step 12, loss = 0.5087498, max_loss = 0.6625913, min_loss = 0.4114608\n",
      "on iter_step 13, loss = 0.5106850, max_loss = 0.6409553, min_loss = 0.3671269\n",
      "on iter_step 14, loss = 0.5044057, max_loss = 0.6437134, min_loss = 0.4113513\n",
      "on iter_step 15, loss = 0.5113387, max_loss = 0.6916158, min_loss = 0.4028038\n",
      "on iter_step 16, loss = 0.5065476, max_loss = 0.6254590, min_loss = 0.3717399\n",
      "on iter_step 17, loss = 0.5041532, max_loss = 0.6385574, min_loss = 0.3484268\n",
      "on iter_step 18, loss = 0.5121465, max_loss = 0.6224427, min_loss = 0.4054855\n",
      "on iter_step 19, loss = 0.5071750, max_loss = 0.6560941, min_loss = 0.3920856\n",
      "on iter_step 20, loss = 0.5041245, max_loss = 0.6541331, min_loss = 0.4047157\n",
      "on iter_step 21, loss = 0.5030891, max_loss = 0.6830908, min_loss = 0.3653220\n",
      "on iter_step 22, loss = 0.5069001, max_loss = 0.6251965, min_loss = 0.3767971\n",
      "on iter_step 23, loss = 0.5082728, max_loss = 0.6685102, min_loss = 0.4017441\n",
      "on iter_step 24, loss = 0.5059439, max_loss = 0.6476429, min_loss = 0.4088047\n",
      "on iter_step 25, loss = 0.5024018, max_loss = 0.6113511, min_loss = 0.3608999\n",
      "on iter_step 26, loss = 0.5054985, max_loss = 0.6309854, min_loss = 0.4044985\n",
      "on iter_step 27, loss = 0.5066927, max_loss = 0.6601332, min_loss = 0.3840759\n",
      "on iter_step 28, loss = 0.5045599, max_loss = 0.6375054, min_loss = 0.3962288\n",
      "on iter_step 29, loss = 0.5061726, max_loss = 0.6617146, min_loss = 0.3488162\n",
      "on iter_step 30, loss = 0.5092098, max_loss = 0.6249276, min_loss = 0.3874875\n",
      "on iter_step 31, loss = 0.5077525, max_loss = 0.6538637, min_loss = 0.3865505\n",
      "on iter_step 32, loss = 0.5135531, max_loss = 0.6652154, min_loss = 0.3543157\n",
      "on iter_step 33, loss = 0.5059281, max_loss = 0.6064311, min_loss = 0.3850029\n",
      "on iter_step 34, loss = 0.5024450, max_loss = 0.6568998, min_loss = 0.3921661\n",
      "on iter_step 35, loss = 0.5045705, max_loss = 0.6718249, min_loss = 0.3750301\n",
      "on iter_step 36, loss = 0.5064299, max_loss = 0.6483045, min_loss = 0.3902089\n",
      "on iter_step 37, loss = 0.5022368, max_loss = 0.6426196, min_loss = 0.3980238\n",
      "on iter_step 38, loss = 0.4983853, max_loss = 0.6025848, min_loss = 0.3833193\n",
      "on iter_step 39, loss = 0.5076959, max_loss = 0.6442468, min_loss = 0.3911231\n"
     ]
    }
   ],
   "source": [
    "model.fit(data)"
   ]
  },
  {
   "cell_type": "code",
   "execution_count": null,
   "metadata": {},
   "outputs": [],
   "source": [
    "mpc = MPCcontroller(dyn_model=model) "
   ]
  },
  {
   "cell_type": "code",
   "execution_count": null,
   "metadata": {},
   "outputs": [],
   "source": [
    "nd = [d for d in data if d[-1] > 0]\n",
    "obs, action, nobs, reward = nd[2]\n",
    "mreward = model.predict([obs], [action])\n",
    "print(mreward)"
   ]
  },
  {
   "cell_type": "code",
   "execution_count": null,
   "metadata": {},
   "outputs": [],
   "source": [
    "from game_controller import GameEnv"
   ]
  },
  {
   "cell_type": "code",
   "execution_count": null,
   "metadata": {},
   "outputs": [],
   "source": [
    "env = GameEnv()\n",
    "env.start()\n",
    "\n",
    "obs = None\n",
    "step = 1000\n",
    "while step > 0:\n",
    "    if env.status == 'CRASHED':\n",
    "        env.restart()\n",
    "    if obs is None:\n",
    "        obs = env.get_observation()\n",
    "    if obs is not None:\n",
    "        action = mpc.get_action(obs)\n",
    "        obs, _, _ = env.perform_action(action)\n",
    "        step -= 1"
   ]
  },
  {
   "cell_type": "code",
   "execution_count": null,
   "metadata": {},
   "outputs": [],
   "source": []
  }
 ],
 "metadata": {
  "kernelspec": {
   "display_name": "Python 3",
   "language": "python",
   "name": "python3"
  },
  "language_info": {
   "codemirror_mode": {
    "name": "ipython",
    "version": 3
   },
   "file_extension": ".py",
   "mimetype": "text/x-python",
   "name": "python",
   "nbconvert_exporter": "python",
   "pygments_lexer": "ipython3",
   "version": "3.6.4"
  }
 },
 "nbformat": 4,
 "nbformat_minor": 2
}
