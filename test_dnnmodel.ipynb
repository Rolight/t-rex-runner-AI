{
 "cells": [
  {
   "cell_type": "code",
   "execution_count": 1,
   "metadata": {},
   "outputs": [
    {
     "name": "stderr",
     "output_type": "stream",
     "text": [
      "/home/rolight/anaconda3/envs/tf/lib/python3.6/site-packages/h5py/__init__.py:36: FutureWarning: Conversion of the second argument of issubdtype from `float` to `np.floating` is deprecated. In future, it will be treated as `np.float64 == np.dtype(float).type`.\n",
      "  from ._conv import register_converters as _register_converters\n"
     ]
    }
   ],
   "source": [
    "%load_ext autoreload\n",
    "%autoreload 2\n",
    "from models import NNDynamicModel, MPCcontroller\n",
    "import tensorflow as tf\n",
    "import numpy as np\n",
    "import json\n",
    "import pickle"
   ]
  },
  {
   "cell_type": "code",
   "execution_count": 2,
   "metadata": {},
   "outputs": [],
   "source": [
    "DYNAMIC_MODEL_PARAMS = {\n",
    "    'l2_regularizer_scale': 1e-7,\n",
    "    'activation': 'tanh',\n",
    "    'output_activation': None,\n",
    "    'learning_rate': [0.001, 0.001, 0.001],\n",
    "    'batch_size': 128,\n",
    "    'n_layers': 3,\n",
<<<<<<< Updated upstream
    "    'size': 64,\n",
    "    'iterations': 100,\n",
=======
    "    'size': 300,\n",
    "    'iterations': 40,\n",
>>>>>>> Stashed changes
    "}"
   ]
  },
  {
   "cell_type": "code",
   "execution_count": 3,
   "metadata": {},
   "outputs": [],
   "source": [
    "# load data\n",
    "with open('./gao/data_buffer.pkl', 'rb') as f:\n",
    "    data = pickle.load(f)\n",
    "\n",
    "data = data.sample(data._tail)\n",
    "test_data = data[-2000:]\n",
    "data = data[:-2000]"
   ]
  },
  {
   "cell_type": "code",
   "execution_count": 4,
   "metadata": {},
   "outputs": [
    {
     "name": "stdout",
     "output_type": "stream",
     "text": [
<<<<<<< Updated upstream
      "[list([0.0, -9.0, 105.0, 17.0, 6.335000000000112])\n",
      " list([2.0, 0.7425015558113478])\n",
      " list([0.0, 152.0, 90.0, 25.0, 6.3520000000001176]) -1]\n"
=======
      "[list([0.0, -8.0, 105.0, 51.0, 6.288000000000096])\n",
      " list([2.0, 0.06151978792057977])\n",
      " list([0.0, 428.0, 105.0, 17.0, 6.2980000000000995]) 1]\n"
>>>>>>> Stashed changes
     ]
    }
   ],
   "source": [
    "# [obs, action, nobs, r]\n",
    "obs = [d for d in data if d[0][1] < 0]\n",
    "obs = np.array(obs)\n",
    "print(obs[2])"
   ]
  },
  {
   "cell_type": "code",
   "execution_count": 5,
   "metadata": {},
   "outputs": [
    {
     "name": "stdout",
     "output_type": "stream",
     "text": [
      "[array([  0.   , -50.   ,  90.   ,  17.   ,   6.153]), array([  0.   , 625.   , 105.   ,  51.   ,   6.752]), array([  0.        , 434.52996667,  97.109     ,  29.5238    ,\n",
      "         6.2301027 ])]\n"
     ]
    }
   ],
   "source": [
    "obs = [d[0] for d in data]\n",
    "normalization = [np.min(obs, axis=0), np.max(obs, axis=0), np.mean(obs, axis=0)]\n",
    "print(normalization)\n",
    "\n",
    "session = tf.Session()"
   ]
  },
  {
   "cell_type": "code",
   "execution_count": 6,
   "metadata": {},
   "outputs": [],
   "source": [
    "model = NNDynamicModel(\n",
    "    name='test',\n",
    "    sess=session,\n",
    "    normalization=normalization,\n",
    "    **DYNAMIC_MODEL_PARAMS\n",
    ")"
   ]
  },
  {
   "cell_type": "code",
   "execution_count": null,
   "metadata": {},
   "outputs": [],
   "source": []
  },
  {
   "cell_type": "code",
   "execution_count": 7,
   "metadata": {},
   "outputs": [],
   "source": [
    "init = tf.global_variables_initializer()\n",
    "session.run(init)"
   ]
  },
  {
   "cell_type": "code",
   "execution_count": 8,
   "metadata": {},
   "outputs": [
    {
     "name": "stdout",
     "output_type": "stream",
     "text": [
<<<<<<< Updated upstream
      "on iter_step 0, loss = [0.5706578  0.6751954  0.53191787]\n",
      "on iter_step 10, loss = [0.44149676 0.65795594 0.4981232 ]\n",
      "on iter_step 20, loss = [0.4299685 0.6495223 0.474533 ]\n",
      "on iter_step 30, loss = [0.4304059  0.64419097 0.465176  ]\n",
      "on iter_step 40, loss = [0.4281967  0.64076144 0.45886502]\n",
      "on iter_step 50, loss = [0.42332742 0.6364676  0.45450646]\n",
      "on iter_step 60, loss = [0.4182011  0.6348425  0.45283675]\n",
      "on iter_step 70, loss = [0.41330203 0.6314098  0.44820625]\n",
      "on iter_step 80, loss = [0.4082443  0.6287709  0.44338024]\n",
      "on iter_step 90, loss = [0.40234295 0.6273373  0.4414254 ]\n"
=======
      "on iter_step 0, loss = 0.6172173, max_loss = 2.5509272, min_loss = 0.4873678\n",
      "on iter_step 1, loss = 0.5550615, max_loss = 0.6846728, min_loss = 0.4492071\n",
      "on iter_step 2, loss = 0.5458181, max_loss = 0.6700832, min_loss = 0.4278359\n",
      "on iter_step 3, loss = 0.5419760, max_loss = 0.6839058, min_loss = 0.4262631\n",
      "on iter_step 4, loss = 0.5286530, max_loss = 0.6831607, min_loss = 0.4006452\n",
      "on iter_step 5, loss = 0.5210714, max_loss = 0.6550623, min_loss = 0.4063663\n",
      "on iter_step 6, loss = 0.5242948, max_loss = 0.6820167, min_loss = 0.3854925\n",
      "on iter_step 7, loss = 0.5293849, max_loss = 0.6684895, min_loss = 0.4077422\n",
      "on iter_step 8, loss = 0.5386474, max_loss = 0.7238857, min_loss = 0.3968742\n",
      "on iter_step 9, loss = 0.5338772, max_loss = 0.7063298, min_loss = 0.4118682\n",
      "on iter_step 10, loss = 0.5296256, max_loss = 0.7422518, min_loss = 0.4163031\n",
      "on iter_step 11, loss = 0.5231526, max_loss = 0.7355446, min_loss = 0.3909049\n",
      "on iter_step 12, loss = 0.5262779, max_loss = 0.6568002, min_loss = 0.4028202\n",
      "on iter_step 13, loss = 0.5223877, max_loss = 0.6698893, min_loss = 0.3980305\n",
      "on iter_step 14, loss = 0.5404626, max_loss = 0.7140139, min_loss = 0.3893494\n",
      "on iter_step 15, loss = 0.5182393, max_loss = 0.6533517, min_loss = 0.3265600\n",
      "on iter_step 16, loss = 0.5182950, max_loss = 0.6739004, min_loss = 0.3712488\n",
      "on iter_step 17, loss = 0.5133793, max_loss = 0.6698763, min_loss = 0.4014452\n",
      "on iter_step 18, loss = 0.5127897, max_loss = 0.6844740, min_loss = 0.3899770\n",
      "on iter_step 19, loss = 0.5290442, max_loss = 0.7295707, min_loss = 0.3891020\n",
      "on iter_step 20, loss = 0.5155093, max_loss = 0.6668386, min_loss = 0.3872706\n",
      "on iter_step 21, loss = 0.5218352, max_loss = 0.6596964, min_loss = 0.4002998\n",
      "on iter_step 22, loss = 0.5034509, max_loss = 0.6290875, min_loss = 0.3839847\n",
      "on iter_step 23, loss = 0.5109197, max_loss = 0.6982087, min_loss = 0.3864723\n",
      "on iter_step 24, loss = 0.5118930, max_loss = 0.6695983, min_loss = 0.3666991\n",
      "on iter_step 25, loss = 0.5078133, max_loss = 0.6767552, min_loss = 0.3776879\n",
      "on iter_step 26, loss = 0.5039629, max_loss = 0.6499327, min_loss = 0.3805158\n",
      "on iter_step 27, loss = 0.5087888, max_loss = 0.7044567, min_loss = 0.3696565\n",
      "on iter_step 28, loss = 0.5067230, max_loss = 0.6475971, min_loss = 0.3895837\n",
      "on iter_step 29, loss = 0.5097554, max_loss = 0.6704705, min_loss = 0.3912669\n",
      "on iter_step 30, loss = 0.5076447, max_loss = 0.6441677, min_loss = 0.3783851\n",
      "on iter_step 31, loss = 0.5101084, max_loss = 0.6494058, min_loss = 0.4024608\n",
      "on iter_step 32, loss = 0.5118543, max_loss = 0.6657072, min_loss = 0.3745379\n",
      "on iter_step 33, loss = 0.5034034, max_loss = 0.6464999, min_loss = 0.3964697\n",
      "on iter_step 34, loss = 0.5124348, max_loss = 0.6540033, min_loss = 0.3809937\n",
      "on iter_step 35, loss = 0.5145587, max_loss = 0.6420290, min_loss = 0.3796415\n",
      "on iter_step 36, loss = 0.5093868, max_loss = 0.6449475, min_loss = 0.4027456\n",
      "on iter_step 37, loss = 0.5176682, max_loss = 0.7395954, min_loss = 0.3893897\n",
      "on iter_step 38, loss = 0.5075170, max_loss = 0.7139906, min_loss = 0.3710933\n",
      "on iter_step 39, loss = 0.5143829, max_loss = 0.6846088, min_loss = 0.3860694\n"
>>>>>>> Stashed changes
     ]
    }
   ],
   "source": [
    "model.fit(data)"
   ]
  },
  {
   "cell_type": "code",
   "execution_count": 9,
   "metadata": {},
   "outputs": [],
   "source": [
    "mpc = MPCcontroller(dyn_model=model) "
   ]
  },
  {
   "cell_type": "code",
   "execution_count": 10,
   "metadata": {},
   "outputs": [
    {
     "name": "stdout",
     "output_type": "stream",
     "text": [
      "test_acc:  0.713 \n",
      "train_acc:  0.7213\n"
     ]
    }
   ],
   "source": [
    "test_obs, test_action = [d[0] for d in test_data], [d[1] for d in test_data]\n",
    "test_pred = model.predict(test_obs, test_action)\n",
    "train_pred = model.predict([d[0] for d in data], [d[1] for d in data])\n",
    "test_reward = [d[-1] for d in test_data]\n",
    "train_reward = [d[-1] for d in data]\n",
    "gd = 0\n",
    "test_pred = np.array([-1 if d[0] >= d[1] + gd else 1 for d in test_pred])\n",
    "train_pred = np.array([-1 if d[0] >= d[1] + gd  else 1 for d in train_pred])\n",
    "test_acc = np.sum(test_pred == test_reward) / len(test_reward)\n",
    "train_acc = np.sum(train_pred == train_reward) / len(train_reward)\n",
    "print('test_acc: ', test_acc, '\\ntrain_acc: ', train_acc)"
   ]
  },
  {
   "cell_type": "code",
   "execution_count": 11,
   "metadata": {},
   "outputs": [
    {
     "name": "stdout",
     "output_type": "stream",
     "text": [
      "574\n"
     ]
    }
   ],
   "source": [
    "err_data = [test_data[i] for i in range(len(test_data)) if test_pred[i] != test_reward[i]]\n",
    "print(len(err_data))"
   ]
  },
  {
   "cell_type": "code",
   "execution_count": 22,
   "metadata": {},
   "outputs": [
    {
     "name": "stdout",
     "output_type": "stream",
     "text": [
      "[list([0.0, 612.0, 105.0, 34.0, 6.1840000000000614])\n",
      " list([0.0, 0.9428808617415323])\n",
      " list([0.0, 280.0, 105.0, 34.0, 6.242000000000081]) 1]\n",
      "[[0.93979515 0.06020485]]\n"
     ]
    }
   ],
   "source": [
    "ed = err_data[0]\n",
    "err_action = np.array([d[1] for d in err_data])\n",
    "print(ed)\n",
    "print(model.predict([ed[0]], [ed[1]]))"
   ]
  },
  {
   "cell_type": "code",
   "execution_count": 23,
   "metadata": {},
   "outputs": [
    {
     "name": "stdout",
     "output_type": "stream",
     "text": [
      "[0.         0.96218234]\n",
      "[[0.94764915 0.05235085]]\n"
     ]
    }
   ],
   "source": [
    "action = mpc.get_action(ed[0])\n",
    "print(action)\n",
    "print(model.predict([ed[0]], [action]))"
   ]
  },
  {
   "cell_type": "code",
   "execution_count": 27,
   "metadata": {},
   "outputs": [],
   "source": [
    "from game_controller import GameEnv\n",
    "import time"
   ]
  },
  {
   "cell_type": "code",
   "execution_count": null,
   "metadata": {},
   "outputs": [
    {
     "name": "stdout",
     "output_type": "stream",
     "text": [
      "[2.         0.87819288]\n",
      "[2.         0.78665201]\n",
      "[0.         0.99321678]\n",
      "[0.         0.99780051]\n",
      "[0.         0.93470674]\n",
      "[0.         0.87911879]\n",
      "[0.         0.99242935]\n",
      "[0.         0.88628478]\n",
      "[0.         0.97900383]\n",
      "[0.         0.97536597]\n",
      "[0.         0.92732769]\n",
      "[0.         0.94348627]\n",
      "[0.         0.94566645]\n",
      "[0.         0.91669065]\n",
      "[0.         0.95671532]\n",
      "[0.         0.96484812]\n",
      "[0.         0.97171999]\n",
      "[0.         0.95283831]\n",
      "[0.         0.91805181]\n"
     ]
    }
   ],
   "source": [
    "env = GameEnv()\n",
    "env.start()\n",
    "obs = None\n",
    "while True:\n",
    "    if env.status == 'CRASHED':\n",
    "        env.restart()\n",
    "        obs = None\n",
    "    while obs is None:\n",
    "        time.sleep(env.interval_time)\n",
    "        obs = env.get_observation()\n",
    "    action = mpc.get_action(obs)\n",
    "    print(action)\n",
    "    env.perform_action(action)"
   ]
  },
  {
   "cell_type": "code",
   "execution_count": null,
   "metadata": {},
   "outputs": [],
   "source": []
  }
 ],
 "metadata": {
  "kernelspec": {
   "display_name": "Python 3",
   "language": "python",
   "name": "python3"
  },
  "language_info": {
   "codemirror_mode": {
    "name": "ipython",
    "version": 3
   },
   "file_extension": ".py",
   "mimetype": "text/x-python",
   "name": "python",
   "nbconvert_exporter": "python",
   "pygments_lexer": "ipython3",
   "version": "3.6.4"
  }
 },
 "nbformat": 4,
 "nbformat_minor": 2
}
