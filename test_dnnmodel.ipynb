{
 "cells": [
  {
   "cell_type": "code",
   "execution_count": 1,
   "metadata": {},
   "outputs": [
    {
     "name": "stderr",
     "output_type": "stream",
     "text": [
      "/home/rolight/anaconda3/envs/tf/lib/python3.6/site-packages/h5py/__init__.py:36: FutureWarning: Conversion of the second argument of issubdtype from `float` to `np.floating` is deprecated. In future, it will be treated as `np.float64 == np.dtype(float).type`.\n",
      "  from ._conv import register_converters as _register_converters\n"
     ]
    }
   ],
   "source": [
    "%load_ext autoreload\n",
    "%autoreload 2\n",
    "from models import NNDynamicModel, MPCcontroller\n",
    "import tensorflow as tf\n",
    "import numpy as np\n",
    "import json\n",
    "import pickle"
   ]
  },
  {
   "cell_type": "code",
   "execution_count": 2,
   "metadata": {},
   "outputs": [],
   "source": [
    "DYNAMIC_MODEL_PARAMS = {\n",
    "    'l2_regularizer_scale': 1e-7,\n",
    "    'activation': 'tanh',\n",
    "    'output_activation': None,\n",
    "    'learning_rate': [0.001, 0.001, 0.001],\n",
    "    'batch_size': 128,\n",
    "    'n_layers': 3,\n",
    "    'size': 64,\n",
    "    'iterations': 100,\n",
    "}"
   ]
  },
  {
   "cell_type": "code",
   "execution_count": 3,
   "metadata": {},
   "outputs": [],
   "source": [
    "# load data\n",
    "with open('./gao/data_buffer.pkl', 'rb') as f:\n",
    "    data = pickle.load(f)\n",
    "\n",
    "data = data.sample(data._tail)\n",
    "test_data = data[-2000:]\n",
    "data = data[:-2000]"
   ]
  },
  {
   "cell_type": "code",
   "execution_count": 4,
   "metadata": {},
   "outputs": [
    {
     "name": "stdout",
     "output_type": "stream",
     "text": [
      "[list([0.0, -9.0, 105.0, 17.0, 6.335000000000112])\n",
      " list([2.0, 0.7425015558113478])\n",
      " list([0.0, 152.0, 90.0, 25.0, 6.3520000000001176]) -1]\n"
     ]
    }
   ],
   "source": [
    "# [obs, action, nobs, r]\n",
    "obs = [d for d in data if d[0][1] < 0]\n",
    "obs = np.array(obs)\n",
    "print(obs[2])"
   ]
  },
  {
   "cell_type": "code",
   "execution_count": 5,
   "metadata": {},
   "outputs": [
    {
     "name": "stdout",
     "output_type": "stream",
     "text": [
      "[array([  0.   , -50.   ,  90.   ,  17.   ,   6.153]), array([  0.   , 625.   , 105.   ,  51.   ,   6.752]), array([  0.        , 434.52996667,  97.109     ,  29.5238    ,\n",
      "         6.2301027 ])]\n"
     ]
    }
   ],
   "source": [
    "obs = [d[0] for d in data]\n",
    "normalization = [np.min(obs, axis=0), np.max(obs, axis=0), np.mean(obs, axis=0)]\n",
    "print(normalization)\n",
    "\n",
    "session = tf.Session()"
   ]
  },
  {
   "cell_type": "code",
   "execution_count": 6,
   "metadata": {},
   "outputs": [],
   "source": [
    "model = NNDynamicModel(\n",
    "    name='test',\n",
    "    sess=session,\n",
    "    normalization=normalization,\n",
    "    **DYNAMIC_MODEL_PARAMS\n",
    ")"
   ]
  },
  {
   "cell_type": "code",
   "execution_count": null,
   "metadata": {},
   "outputs": [],
   "source": []
  },
  {
   "cell_type": "code",
   "execution_count": 7,
   "metadata": {},
   "outputs": [],
   "source": [
    "init = tf.global_variables_initializer()\n",
    "session.run(init)"
   ]
  },
  {
   "cell_type": "code",
   "execution_count": 8,
   "metadata": {},
   "outputs": [
    {
     "name": "stdout",
     "output_type": "stream",
     "text": [
      "on iter_step 0, loss = [0.5706578  0.6751954  0.53191787]\n",
      "on iter_step 10, loss = [0.44149676 0.65795594 0.4981232 ]\n",
      "on iter_step 20, loss = [0.4299685 0.6495223 0.474533 ]\n",
      "on iter_step 30, loss = [0.4304059  0.64419097 0.465176  ]\n",
      "on iter_step 40, loss = [0.4281967  0.64076144 0.45886502]\n",
      "on iter_step 50, loss = [0.42332742 0.6364676  0.45450646]\n",
      "on iter_step 60, loss = [0.4182011  0.6348425  0.45283675]\n",
      "on iter_step 70, loss = [0.41330203 0.6314098  0.44820625]\n",
      "on iter_step 80, loss = [0.4082443  0.6287709  0.44338024]\n",
      "on iter_step 90, loss = [0.40234295 0.6273373  0.4414254 ]\n"
     ]
    }
   ],
   "source": [
    "model.fit(data)"
   ]
  },
  {
   "cell_type": "code",
   "execution_count": 9,
   "metadata": {},
   "outputs": [],
   "source": [
    "mpc = MPCcontroller(dyn_model=model) "
   ]
  },
  {
   "cell_type": "code",
   "execution_count": 10,
   "metadata": {},
   "outputs": [
    {
     "name": "stdout",
     "output_type": "stream",
     "text": [
      "test_acc:  0.713 \n",
      "train_acc:  0.7213\n"
     ]
    }
   ],
   "source": [
    "test_obs, test_action = [d[0] for d in test_data], [d[1] for d in test_data]\n",
    "test_pred = model.predict(test_obs, test_action)\n",
    "train_pred = model.predict([d[0] for d in data], [d[1] for d in data])\n",
    "test_reward = [d[-1] for d in test_data]\n",
    "train_reward = [d[-1] for d in data]\n",
    "gd = 0\n",
    "test_pred = np.array([-1 if d[0] >= d[1] + gd else 1 for d in test_pred])\n",
    "train_pred = np.array([-1 if d[0] >= d[1] + gd  else 1 for d in train_pred])\n",
    "test_acc = np.sum(test_pred == test_reward) / len(test_reward)\n",
    "train_acc = np.sum(train_pred == train_reward) / len(train_reward)\n",
    "print('test_acc: ', test_acc, '\\ntrain_acc: ', train_acc)"
   ]
  },
  {
   "cell_type": "code",
   "execution_count": 11,
   "metadata": {},
   "outputs": [
    {
     "name": "stdout",
     "output_type": "stream",
     "text": [
      "574\n"
     ]
    }
   ],
   "source": [
    "err_data = [test_data[i] for i in range(len(test_data)) if test_pred[i] != test_reward[i]]\n",
    "print(len(err_data))"
   ]
  },
  {
   "cell_type": "code",
   "execution_count": 22,
   "metadata": {},
   "outputs": [
    {
     "name": "stdout",
     "output_type": "stream",
     "text": [
      "[list([0.0, 612.0, 105.0, 34.0, 6.1840000000000614])\n",
      " list([0.0, 0.9428808617415323])\n",
      " list([0.0, 280.0, 105.0, 34.0, 6.242000000000081]) 1]\n",
      "[[0.93979515 0.06020485]]\n"
     ]
    }
   ],
   "source": [
    "ed = err_data[0]\n",
    "err_action = np.array([d[1] for d in err_data])\n",
    "print(ed)\n",
    "print(model.predict([ed[0]], [ed[1]]))"
   ]
  },
  {
   "cell_type": "code",
   "execution_count": 23,
   "metadata": {},
   "outputs": [
    {
     "name": "stdout",
     "output_type": "stream",
     "text": [
      "[0.         0.96218234]\n",
      "[[0.94764915 0.05235085]]\n"
     ]
    }
   ],
   "source": [
    "action = mpc.get_action(ed[0])\n",
    "print(action)\n",
    "print(model.predict([ed[0]], [action]))"
   ]
  },
  {
   "cell_type": "code",
   "execution_count": 27,
   "metadata": {},
   "outputs": [],
   "source": [
    "from game_controller import GameEnv\n",
    "import time"
   ]
  },
  {
   "cell_type": "code",
   "execution_count": null,
   "metadata": {},
   "outputs": [
    {
     "name": "stdout",
     "output_type": "stream",
     "text": [
      "[2.         0.87819288]\n",
      "[2.         0.78665201]\n",
      "[0.         0.99321678]\n",
      "[0.         0.99780051]\n",
      "[0.         0.93470674]\n",
      "[0.         0.87911879]\n",
      "[0.         0.99242935]\n",
      "[0.         0.88628478]\n",
      "[0.         0.97900383]\n",
      "[0.         0.97536597]\n",
      "[0.         0.92732769]\n",
      "[0.         0.94348627]\n",
      "[0.         0.94566645]\n",
      "[0.         0.91669065]\n",
      "[0.         0.95671532]\n",
      "[0.         0.96484812]\n",
      "[0.         0.97171999]\n",
      "[0.         0.95283831]\n",
      "[0.         0.91805181]\n"
     ]
    }
   ],
   "source": [
    "env = GameEnv()\n",
    "env.start()\n",
    "obs = None\n",
    "while True:\n",
    "    if env.status == 'CRASHED':\n",
    "        env.restart()\n",
    "        obs = None\n",
    "    while obs is None:\n",
    "        time.sleep(env.interval_time)\n",
    "        obs = env.get_observation()\n",
    "    action = mpc.get_action(obs)\n",
    "    print(action)\n",
    "    env.perform_action(action)"
   ]
  },
  {
   "cell_type": "code",
   "execution_count": null,
   "metadata": {},
   "outputs": [],
   "source": []
  }
 ],
 "metadata": {
  "kernelspec": {
   "display_name": "Python 3",
   "language": "python",
   "name": "python3"
  },
  "language_info": {
   "codemirror_mode": {
    "name": "ipython",
    "version": 3
   },
   "file_extension": ".py",
   "mimetype": "text/x-python",
   "name": "python",
   "nbconvert_exporter": "python",
   "pygments_lexer": "ipython3",
   "version": "3.6.4"
  }
 },
 "nbformat": 4,
 "nbformat_minor": 2
}
